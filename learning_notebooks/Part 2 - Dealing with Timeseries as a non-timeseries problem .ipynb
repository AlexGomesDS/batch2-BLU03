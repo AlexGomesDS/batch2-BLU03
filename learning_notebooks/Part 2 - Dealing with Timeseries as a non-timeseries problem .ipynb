{
 "cells": [
  {
   "cell_type": "markdown",
   "metadata": {},
   "source": [
    "### Part 2 - Dealing with Timeseries as a non-timeseries problem "
   ]
  },
  {
   "cell_type": "code",
   "execution_count": 43,
   "metadata": {},
   "outputs": [],
   "source": [
    "import pandas as pd \n",
    "from sklearn.linear_model import LinearRegression\n",
    "from matplotlib import pyplot as plt \n",
    "from sklearn.metrics import r2_score\n",
    "from statsmodels.graphics.tsaplots import plot_pacf\n",
    "from sklearn.ensemble import RandomForestRegressor\n",
    "% matplotlib inline \n",
    "\n",
    "import warnings\n",
    "warnings.filterwarnings(action=\"ignore\")\n",
    "warnings.filterwarnings(action=\"ignore\", module=\"scipy\", message=\"^internal gelsd\")\n",
    "\n",
    "import utils"
   ]
  },
  {
   "cell_type": "markdown",
   "metadata": {},
   "source": [
    "![](https://i.imgflip.com/2acblw.jpg)"
   ]
  },
  {
   "cell_type": "markdown",
   "metadata": {},
   "source": [
    "Let's get our airlines data "
   ]
  },
  {
   "cell_type": "code",
   "execution_count": 2,
   "metadata": {},
   "outputs": [],
   "source": [
    "airlines = utils.load_airline_data()"
   ]
  },
  {
   "cell_type": "markdown",
   "metadata": {},
   "source": [
    "Ok Neo, picture this. We take the next period's data, and make it the target. "
   ]
  },
  {
   "cell_type": "code",
   "execution_count": 3,
   "metadata": {},
   "outputs": [],
   "source": [
    "airlines_as_dataframe = pd.DataFrame(airlines)"
   ]
  },
  {
   "cell_type": "code",
   "execution_count": 4,
   "metadata": {},
   "outputs": [],
   "source": [
    "airlines_as_dataframe['target'] = airlines.shift(-1)"
   ]
  },
  {
   "cell_type": "markdown",
   "metadata": {},
   "source": [
    "Now we take a few previous periods, and make them features. "
   ]
  },
  {
   "cell_type": "code",
   "execution_count": 5,
   "metadata": {},
   "outputs": [],
   "source": [
    "airlines_as_dataframe['1 period before'] = airlines.shift(1)\n",
    "airlines_as_dataframe['2 periods before'] = airlines.shift(2)"
   ]
  },
  {
   "cell_type": "markdown",
   "metadata": {},
   "source": [
    "Behold. "
   ]
  },
  {
   "cell_type": "code",
   "execution_count": 6,
   "metadata": {},
   "outputs": [
    {
     "data": {
      "text/html": [
       "<div>\n",
       "<style scoped>\n",
       "    .dataframe tbody tr th:only-of-type {\n",
       "        vertical-align: middle;\n",
       "    }\n",
       "\n",
       "    .dataframe tbody tr th {\n",
       "        vertical-align: top;\n",
       "    }\n",
       "\n",
       "    .dataframe thead th {\n",
       "        text-align: right;\n",
       "    }\n",
       "</style>\n",
       "<table border=\"1\" class=\"dataframe\">\n",
       "  <thead>\n",
       "    <tr style=\"text-align: right;\">\n",
       "      <th></th>\n",
       "      <th>passengers_thousands</th>\n",
       "      <th>target</th>\n",
       "      <th>1 period before</th>\n",
       "      <th>2 periods before</th>\n",
       "    </tr>\n",
       "    <tr>\n",
       "      <th>Month</th>\n",
       "      <th></th>\n",
       "      <th></th>\n",
       "      <th></th>\n",
       "      <th></th>\n",
       "    </tr>\n",
       "  </thead>\n",
       "  <tbody>\n",
       "    <tr>\n",
       "      <th>1960-09-30</th>\n",
       "      <td>508.0</td>\n",
       "      <td>461.0</td>\n",
       "      <td>606.0</td>\n",
       "      <td>622.0</td>\n",
       "    </tr>\n",
       "    <tr>\n",
       "      <th>1960-10-31</th>\n",
       "      <td>461.0</td>\n",
       "      <td>390.0</td>\n",
       "      <td>508.0</td>\n",
       "      <td>606.0</td>\n",
       "    </tr>\n",
       "    <tr>\n",
       "      <th>1960-11-30</th>\n",
       "      <td>390.0</td>\n",
       "      <td>NaN</td>\n",
       "      <td>461.0</td>\n",
       "      <td>508.0</td>\n",
       "    </tr>\n",
       "  </tbody>\n",
       "</table>\n",
       "</div>"
      ],
      "text/plain": [
       "            passengers_thousands  target  1 period before  2 periods before\n",
       "Month                                                                      \n",
       "1960-09-30                 508.0   461.0            606.0             622.0\n",
       "1960-10-31                 461.0   390.0            508.0             606.0\n",
       "1960-11-30                 390.0     NaN            461.0             508.0"
      ]
     },
     "execution_count": 6,
     "metadata": {},
     "output_type": "execute_result"
    }
   ],
   "source": [
    "airlines_as_dataframe.tail(3)"
   ]
  },
  {
   "cell_type": "markdown",
   "metadata": {},
   "source": [
    "With this, we can train on the previous days, using them as features, and predict the target. "
   ]
  },
  {
   "cell_type": "markdown",
   "metadata": {},
   "source": [
    "The idea is elegant, and sounds simple. There will however be a lot of weird Pandas to get the data ready. \n",
    "\n",
    "Remember Neo: \n",
    "> This section is completely optional.\n",
    "\n",
    "This is your last chance. \n",
    "\n",
    "![](https://i.imgflip.com/2akbei.jpg)"
   ]
  },
  {
   "cell_type": "markdown",
   "metadata": {},
   "source": [
    "-------"
   ]
  },
  {
   "cell_type": "markdown",
   "metadata": {},
   "source": [
    "Remember. All I'm offering you is the Truth. "
   ]
  },
  {
   "cell_type": "markdown",
   "metadata": {},
   "source": [
    "We will be making some functions along the way, or this will get out of control fast. \n",
    "\n",
    "Firstly, a function to build our target, by getting the next period: "
   ]
  },
  {
   "cell_type": "code",
   "execution_count": 7,
   "metadata": {},
   "outputs": [],
   "source": [
    "def build_target(series_, number_of_periods_ahead):\n",
    "    \"\"\" \n",
    "    takes a series, turned it into a dataframe, and adds a new column called target\n",
    "    This column is the input series, lagged number_of_periods_ahead into the future\n",
    "    \"\"\"\n",
    "    \n",
    "    # make a copy \n",
    "    series_ = series_.copy()\n",
    "    series_.name = 'observed_values'\n",
    "    \n",
    "    # make a dataframe from the series\n",
    "    df_ = pd.DataFrame(series_)\n",
    "    \n",
    "    # the target column will be the input series, lagged into the future\n",
    "    df_['target'] = series_.shift(-number_of_periods_ahead)\n",
    "    return df_"
   ]
  },
  {
   "cell_type": "markdown",
   "metadata": {},
   "source": [
    "What does this do to our `airlines` data? "
   ]
  },
  {
   "cell_type": "code",
   "execution_count": 8,
   "metadata": {},
   "outputs": [
    {
     "data": {
      "text/html": [
       "<div>\n",
       "<style scoped>\n",
       "    .dataframe tbody tr th:only-of-type {\n",
       "        vertical-align: middle;\n",
       "    }\n",
       "\n",
       "    .dataframe tbody tr th {\n",
       "        vertical-align: top;\n",
       "    }\n",
       "\n",
       "    .dataframe thead th {\n",
       "        text-align: right;\n",
       "    }\n",
       "</style>\n",
       "<table border=\"1\" class=\"dataframe\">\n",
       "  <thead>\n",
       "    <tr style=\"text-align: right;\">\n",
       "      <th></th>\n",
       "      <th>observed_values</th>\n",
       "      <th>target</th>\n",
       "    </tr>\n",
       "    <tr>\n",
       "      <th>Month</th>\n",
       "      <th></th>\n",
       "      <th></th>\n",
       "    </tr>\n",
       "  </thead>\n",
       "  <tbody>\n",
       "    <tr>\n",
       "      <th>1960-07-31</th>\n",
       "      <td>622.0</td>\n",
       "      <td>606.0</td>\n",
       "    </tr>\n",
       "    <tr>\n",
       "      <th>1960-08-31</th>\n",
       "      <td>606.0</td>\n",
       "      <td>508.0</td>\n",
       "    </tr>\n",
       "    <tr>\n",
       "      <th>1960-09-30</th>\n",
       "      <td>508.0</td>\n",
       "      <td>461.0</td>\n",
       "    </tr>\n",
       "    <tr>\n",
       "      <th>1960-10-31</th>\n",
       "      <td>461.0</td>\n",
       "      <td>390.0</td>\n",
       "    </tr>\n",
       "    <tr>\n",
       "      <th>1960-11-30</th>\n",
       "      <td>390.0</td>\n",
       "      <td>NaN</td>\n",
       "    </tr>\n",
       "  </tbody>\n",
       "</table>\n",
       "</div>"
      ],
      "text/plain": [
       "            observed_values  target\n",
       "Month                              \n",
       "1960-07-31            622.0   606.0\n",
       "1960-08-31            606.0   508.0\n",
       "1960-09-30            508.0   461.0\n",
       "1960-10-31            461.0   390.0\n",
       "1960-11-30            390.0     NaN"
      ]
     },
     "execution_count": 8,
     "metadata": {},
     "output_type": "execute_result"
    }
   ],
   "source": [
    "airlines_with_target = build_target(airlines, number_of_periods_ahead=1)\n",
    "\n",
    "airlines_with_target.tail()"
   ]
  },
  {
   "cell_type": "markdown",
   "metadata": {},
   "source": [
    "Quite simple, the target becomes the value of the next period. The last day, of course, does not have a target. "
   ]
  },
  {
   "cell_type": "markdown",
   "metadata": {},
   "source": [
    "Now, let's build some more features manually, by taking the differences between consecutive days. Maybe this helps to give the model an idea of how things are changing: "
   ]
  },
  {
   "cell_type": "code",
   "execution_count": 9,
   "metadata": {},
   "outputs": [],
   "source": [
    "def build_some_features(df_, num_diffs, num_periods_lagged): \n",
    "    \"\"\"\n",
    "    Builds some features by calculating differences between periods  \n",
    "    \"\"\"\n",
    "    # make a copy \n",
    "    df_ = df_.copy()\n",
    "    \n",
    "    # for a few values, get the diffs \n",
    "    for i in range(1, num_diffs+1):\n",
    "        # make a new feature, with the diffs in the observed values column\n",
    "        df_['diffed_%s' % str(i)] = df_['observed_values'].diff(i)\n",
    "        \n",
    "    # for a few values, get the lags  \n",
    "    for i in range(1, num_periods_lagged+1):\n",
    "        # make a new feature, with the diffs in the observed values column\n",
    "        df_['lagged_%s' % str(i)] = df_['observed_values'].shift(i)\n",
    "        \n",
    "    return df_"
   ]
  },
  {
   "cell_type": "code",
   "execution_count": 10,
   "metadata": {},
   "outputs": [
    {
     "data": {
      "text/html": [
       "<div>\n",
       "<style scoped>\n",
       "    .dataframe tbody tr th:only-of-type {\n",
       "        vertical-align: middle;\n",
       "    }\n",
       "\n",
       "    .dataframe tbody tr th {\n",
       "        vertical-align: top;\n",
       "    }\n",
       "\n",
       "    .dataframe thead th {\n",
       "        text-align: right;\n",
       "    }\n",
       "</style>\n",
       "<table border=\"1\" class=\"dataframe\">\n",
       "  <thead>\n",
       "    <tr style=\"text-align: right;\">\n",
       "      <th></th>\n",
       "      <th>observed_values</th>\n",
       "      <th>target</th>\n",
       "      <th>diffed_1</th>\n",
       "      <th>diffed_2</th>\n",
       "      <th>lagged_1</th>\n",
       "      <th>lagged_2</th>\n",
       "    </tr>\n",
       "    <tr>\n",
       "      <th>Month</th>\n",
       "      <th></th>\n",
       "      <th></th>\n",
       "      <th></th>\n",
       "      <th></th>\n",
       "      <th></th>\n",
       "      <th></th>\n",
       "    </tr>\n",
       "  </thead>\n",
       "  <tbody>\n",
       "    <tr>\n",
       "      <th>1960-07-31</th>\n",
       "      <td>622.0</td>\n",
       "      <td>606.0</td>\n",
       "      <td>87.0</td>\n",
       "      <td>150.0</td>\n",
       "      <td>535.0</td>\n",
       "      <td>472.0</td>\n",
       "    </tr>\n",
       "    <tr>\n",
       "      <th>1960-08-31</th>\n",
       "      <td>606.0</td>\n",
       "      <td>508.0</td>\n",
       "      <td>-16.0</td>\n",
       "      <td>71.0</td>\n",
       "      <td>622.0</td>\n",
       "      <td>535.0</td>\n",
       "    </tr>\n",
       "    <tr>\n",
       "      <th>1960-09-30</th>\n",
       "      <td>508.0</td>\n",
       "      <td>461.0</td>\n",
       "      <td>-98.0</td>\n",
       "      <td>-114.0</td>\n",
       "      <td>606.0</td>\n",
       "      <td>622.0</td>\n",
       "    </tr>\n",
       "    <tr>\n",
       "      <th>1960-10-31</th>\n",
       "      <td>461.0</td>\n",
       "      <td>390.0</td>\n",
       "      <td>-47.0</td>\n",
       "      <td>-145.0</td>\n",
       "      <td>508.0</td>\n",
       "      <td>606.0</td>\n",
       "    </tr>\n",
       "    <tr>\n",
       "      <th>1960-11-30</th>\n",
       "      <td>390.0</td>\n",
       "      <td>NaN</td>\n",
       "      <td>-71.0</td>\n",
       "      <td>-118.0</td>\n",
       "      <td>461.0</td>\n",
       "      <td>508.0</td>\n",
       "    </tr>\n",
       "  </tbody>\n",
       "</table>\n",
       "</div>"
      ],
      "text/plain": [
       "            observed_values  target  diffed_1  diffed_2  lagged_1  lagged_2\n",
       "Month                                                                      \n",
       "1960-07-31            622.0   606.0      87.0     150.0     535.0     472.0\n",
       "1960-08-31            606.0   508.0     -16.0      71.0     622.0     535.0\n",
       "1960-09-30            508.0   461.0     -98.0    -114.0     606.0     622.0\n",
       "1960-10-31            461.0   390.0     -47.0    -145.0     508.0     606.0\n",
       "1960-11-30            390.0     NaN     -71.0    -118.0     461.0     508.0"
      ]
     },
     "execution_count": 10,
     "metadata": {},
     "output_type": "execute_result"
    }
   ],
   "source": [
    "airlines_with_some_hand_made_features = build_some_features(airlines_with_target, 2, 2)\n",
    "airlines_with_some_hand_made_features.tail()"
   ]
  },
  {
   "cell_type": "markdown",
   "metadata": {},
   "source": [
    "So let's see what this mean... \n",
    "\n",
    "> If I take `observed values` on day `1960-10-31`     (461.0)   \n",
    "> ... and subtract `observed values` on day `1960-08-31` (606.0)  \n",
    "> I get `diffed_2` for day `1960-10-31`               (-145.0)\n",
    "\n",
    "> If I take `observed values` on day `1960-10-31`     (461.0)   \n",
    "> And move it to `1960-11-30`  \n",
    "> I've created a `lagged_1` feature for day  `1960-11-30`  (461.0)   "
   ]
  },
  {
   "cell_type": "markdown",
   "metadata": {},
   "source": [
    "Does that make sense? There are obviously a lot more features we can hand-engineer, but let's start with the super basic stuff first. \n",
    "\n",
    "Next up, let's separate that last day (which we can't use for training), and separate the features from the target: "
   ]
  },
  {
   "cell_type": "code",
   "execution_count": 11,
   "metadata": {},
   "outputs": [],
   "source": [
    "def separate_last_day(df_):\n",
    "    \n",
    "    \"\"\"\n",
    "    takes a dataset which has the target and features built \n",
    "    and separates it into the last day\n",
    "    \"\"\"\n",
    "    # take the last period \n",
    "    last_period = df_.iloc[-1]\n",
    "    \n",
    "    # the last period is now a series, so it's name will be the timestamp\n",
    "    training_data = df_.loc[df_.index < last_period.name]\n",
    "\n",
    "    return last_period, training_data"
   ]
  },
  {
   "cell_type": "markdown",
   "metadata": {},
   "source": [
    "Does that work? "
   ]
  },
  {
   "cell_type": "code",
   "execution_count": 12,
   "metadata": {},
   "outputs": [],
   "source": [
    "last_period, training_data = separate_last_day(airlines_with_some_hand_made_features)"
   ]
  },
  {
   "cell_type": "markdown",
   "metadata": {},
   "source": [
    "What is our last period? "
   ]
  },
  {
   "cell_type": "code",
   "execution_count": 13,
   "metadata": {},
   "outputs": [
    {
     "data": {
      "text/plain": [
       "observed_values    390.0\n",
       "target               NaN\n",
       "diffed_1           -71.0\n",
       "diffed_2          -118.0\n",
       "lagged_1           461.0\n",
       "lagged_2           508.0\n",
       "Name: 1960-11-30 00:00:00, dtype: float64"
      ]
     },
     "execution_count": 13,
     "metadata": {},
     "output_type": "execute_result"
    }
   ],
   "source": [
    "last_period"
   ]
  },
  {
   "cell_type": "markdown",
   "metadata": {},
   "source": [
    "And the training data? "
   ]
  },
  {
   "cell_type": "code",
   "execution_count": 14,
   "metadata": {},
   "outputs": [
    {
     "data": {
      "text/html": [
       "<div>\n",
       "<style scoped>\n",
       "    .dataframe tbody tr th:only-of-type {\n",
       "        vertical-align: middle;\n",
       "    }\n",
       "\n",
       "    .dataframe tbody tr th {\n",
       "        vertical-align: top;\n",
       "    }\n",
       "\n",
       "    .dataframe thead th {\n",
       "        text-align: right;\n",
       "    }\n",
       "</style>\n",
       "<table border=\"1\" class=\"dataframe\">\n",
       "  <thead>\n",
       "    <tr style=\"text-align: right;\">\n",
       "      <th></th>\n",
       "      <th>observed_values</th>\n",
       "      <th>target</th>\n",
       "      <th>diffed_1</th>\n",
       "      <th>diffed_2</th>\n",
       "      <th>lagged_1</th>\n",
       "      <th>lagged_2</th>\n",
       "    </tr>\n",
       "    <tr>\n",
       "      <th>Month</th>\n",
       "      <th></th>\n",
       "      <th></th>\n",
       "      <th></th>\n",
       "      <th></th>\n",
       "      <th></th>\n",
       "      <th></th>\n",
       "    </tr>\n",
       "  </thead>\n",
       "  <tbody>\n",
       "    <tr>\n",
       "      <th>1960-08-31</th>\n",
       "      <td>606.0</td>\n",
       "      <td>508.0</td>\n",
       "      <td>-16.0</td>\n",
       "      <td>71.0</td>\n",
       "      <td>622.0</td>\n",
       "      <td>535.0</td>\n",
       "    </tr>\n",
       "    <tr>\n",
       "      <th>1960-09-30</th>\n",
       "      <td>508.0</td>\n",
       "      <td>461.0</td>\n",
       "      <td>-98.0</td>\n",
       "      <td>-114.0</td>\n",
       "      <td>606.0</td>\n",
       "      <td>622.0</td>\n",
       "    </tr>\n",
       "    <tr>\n",
       "      <th>1960-10-31</th>\n",
       "      <td>461.0</td>\n",
       "      <td>390.0</td>\n",
       "      <td>-47.0</td>\n",
       "      <td>-145.0</td>\n",
       "      <td>508.0</td>\n",
       "      <td>606.0</td>\n",
       "    </tr>\n",
       "  </tbody>\n",
       "</table>\n",
       "</div>"
      ],
      "text/plain": [
       "            observed_values  target  diffed_1  diffed_2  lagged_1  lagged_2\n",
       "Month                                                                      \n",
       "1960-08-31            606.0   508.0     -16.0      71.0     622.0     535.0\n",
       "1960-09-30            508.0   461.0     -98.0    -114.0     606.0     622.0\n",
       "1960-10-31            461.0   390.0     -47.0    -145.0     508.0     606.0"
      ]
     },
     "execution_count": 14,
     "metadata": {},
     "output_type": "execute_result"
    }
   ],
   "source": [
    "training_data.tail(3)"
   ]
  },
  {
   "cell_type": "markdown",
   "metadata": {},
   "source": [
    "Excellent, stops right before our last period. One reminder, it will still have missing data (creating our features made some missing data at the start), but we'll just get rid of it when the time comes: "
   ]
  },
  {
   "cell_type": "code",
   "execution_count": 15,
   "metadata": {},
   "outputs": [
    {
     "data": {
      "text/html": [
       "<div>\n",
       "<style scoped>\n",
       "    .dataframe tbody tr th:only-of-type {\n",
       "        vertical-align: middle;\n",
       "    }\n",
       "\n",
       "    .dataframe tbody tr th {\n",
       "        vertical-align: top;\n",
       "    }\n",
       "\n",
       "    .dataframe thead th {\n",
       "        text-align: right;\n",
       "    }\n",
       "</style>\n",
       "<table border=\"1\" class=\"dataframe\">\n",
       "  <thead>\n",
       "    <tr style=\"text-align: right;\">\n",
       "      <th></th>\n",
       "      <th>observed_values</th>\n",
       "      <th>target</th>\n",
       "      <th>diffed_1</th>\n",
       "      <th>diffed_2</th>\n",
       "      <th>lagged_1</th>\n",
       "      <th>lagged_2</th>\n",
       "    </tr>\n",
       "    <tr>\n",
       "      <th>Month</th>\n",
       "      <th></th>\n",
       "      <th></th>\n",
       "      <th></th>\n",
       "      <th></th>\n",
       "      <th></th>\n",
       "      <th></th>\n",
       "    </tr>\n",
       "  </thead>\n",
       "  <tbody>\n",
       "    <tr>\n",
       "      <th>1949-01-31</th>\n",
       "      <td>112.0</td>\n",
       "      <td>118.0</td>\n",
       "      <td>NaN</td>\n",
       "      <td>NaN</td>\n",
       "      <td>NaN</td>\n",
       "      <td>NaN</td>\n",
       "    </tr>\n",
       "    <tr>\n",
       "      <th>1949-02-28</th>\n",
       "      <td>118.0</td>\n",
       "      <td>132.0</td>\n",
       "      <td>6.0</td>\n",
       "      <td>NaN</td>\n",
       "      <td>112.0</td>\n",
       "      <td>NaN</td>\n",
       "    </tr>\n",
       "    <tr>\n",
       "      <th>1949-03-31</th>\n",
       "      <td>132.0</td>\n",
       "      <td>129.0</td>\n",
       "      <td>14.0</td>\n",
       "      <td>20.0</td>\n",
       "      <td>118.0</td>\n",
       "      <td>112.0</td>\n",
       "    </tr>\n",
       "  </tbody>\n",
       "</table>\n",
       "</div>"
      ],
      "text/plain": [
       "            observed_values  target  diffed_1  diffed_2  lagged_1  lagged_2\n",
       "Month                                                                      \n",
       "1949-01-31            112.0   118.0       NaN       NaN       NaN       NaN\n",
       "1949-02-28            118.0   132.0       6.0       NaN     112.0       NaN\n",
       "1949-03-31            132.0   129.0      14.0      20.0     118.0     112.0"
      ]
     },
     "execution_count": 15,
     "metadata": {},
     "output_type": "execute_result"
    }
   ],
   "source": [
    "training_data.head(3)"
   ]
  },
  {
   "cell_type": "markdown",
   "metadata": {},
   "source": [
    "Lastly, let's make a method for separating the features and targets, so we get our complete train test split: "
   ]
  },
  {
   "cell_type": "code",
   "execution_count": 16,
   "metadata": {},
   "outputs": [],
   "source": [
    "def separate_train_and_test_set(last_period_, training_data_, target='target'): \n",
    "    \n",
    "    \"\"\" \n",
    "    separates training and test set (clue was in the name, really... )\n",
    "    Ok, we were lazy and left the target hardcoded as 'target'. Shame on us. \n",
    "    \"\"\"\n",
    "    \n",
    "    # anything that isn't a target is a feature \n",
    "    features = [feature for feature in training_data_.columns if feature != target]\n",
    "    \n",
    "    # adding a sneaky little dropna to avoid the missing data problem above \n",
    "    X_train = training_data_.dropna()[features]\n",
    "    y_train = training_data_.dropna()[target]\n",
    "    \n",
    "    X_last_period = last_period_[features]\n",
    "    \n",
    "    return X_train, y_train, X_last_period"
   ]
  },
  {
   "cell_type": "code",
   "execution_count": 17,
   "metadata": {},
   "outputs": [],
   "source": [
    "X_train, y_train, X_last_period = separate_train_and_test_set(last_period, training_data, target='target')"
   ]
  },
  {
   "cell_type": "code",
   "execution_count": 18,
   "metadata": {},
   "outputs": [
    {
     "data": {
      "text/plain": [
       "observed_values    390.0\n",
       "diffed_1           -71.0\n",
       "diffed_2          -118.0\n",
       "lagged_1           461.0\n",
       "lagged_2           508.0\n",
       "Name: 1960-11-30 00:00:00, dtype: float64"
      ]
     },
     "execution_count": 18,
     "metadata": {},
     "output_type": "execute_result"
    }
   ],
   "source": [
    "X_last_period"
   ]
  },
  {
   "cell_type": "markdown",
   "metadata": {},
   "source": [
    "Let's take a look at our outputs: "
   ]
  },
  {
   "cell_type": "code",
   "execution_count": 19,
   "metadata": {},
   "outputs": [
    {
     "name": "stdout",
     "output_type": "stream",
     "text": [
      "            observed_values  diffed_1  diffed_2  lagged_1  lagged_2\n",
      "Month                                                              \n",
      "1960-09-30            508.0     -98.0    -114.0     606.0     622.0\n",
      "1960-10-31            461.0     -47.0    -145.0     508.0     606.0\n",
      "\n",
      "Month\n",
      "1960-09-30    461.0\n",
      "1960-10-31    390.0\n",
      "Freq: M, Name: target, dtype: float64\n",
      "\n",
      "lagged_1    461.0\n",
      "lagged_2    508.0\n",
      "Name: 1960-11-30 00:00:00, dtype: float64\n"
     ]
    }
   ],
   "source": [
    "print(X_train.tail(2), end='\\n\\n')\n",
    "print(y_train.tail(2), end='\\n\\n')\n",
    "print(X_last_period.tail(2))"
   ]
  },
  {
   "cell_type": "markdown",
   "metadata": {},
   "source": [
    "Great. Now let's make a utility function to put all this together: "
   ]
  },
  {
   "cell_type": "code",
   "execution_count": 20,
   "metadata": {},
   "outputs": [],
   "source": [
    "def prepare_for_prediction(series_, number_of_periods_ahead, num_diffs, num_periods_lagged):\n",
    "    \n",
    "    \"\"\" \n",
    "    Wrapper to go from the original series to X_train, y_train, X_last_period \n",
    "    \n",
    "    \"\"\"\n",
    "    \n",
    "    # build the target \n",
    "    data_with_target = build_target(series_, \n",
    "                                    number_of_periods_ahead)\n",
    "    \n",
    "    # build the features \n",
    "    data_with_target_and_features = build_some_features(data_with_target, \n",
    "                                                             num_diffs=num_diffs, \n",
    "                                                        num_periods_lagged=num_periods_lagged)\n",
    "    # separate train and test data \n",
    "    last_period, training_data = separate_last_day(data_with_target_and_features)\n",
    "\n",
    "    # separate X_train, y_train, and X_test \n",
    "    X_train, y_train, X_last_period = separate_train_and_test_set(last_period, \n",
    "                                                           training_data, \n",
    "                                                           target='target')\n",
    "    \n",
    "    # return ALL OF THE THINGS! (well, actually just the ones we need)\n",
    "    return X_train, y_train, X_last_period "
   ]
  },
  {
   "cell_type": "markdown",
   "metadata": {},
   "source": [
    "Did that work? "
   ]
  },
  {
   "cell_type": "code",
   "execution_count": 21,
   "metadata": {},
   "outputs": [],
   "source": [
    "X_train, y_train, X_last_period = prepare_for_prediction(airlines, \n",
    "                                                         number_of_periods_ahead=1, \n",
    "                                                         num_diffs=3, \n",
    "                                                        num_periods_lagged=3)"
   ]
  },
  {
   "cell_type": "code",
   "execution_count": 22,
   "metadata": {},
   "outputs": [
    {
     "data": {
      "text/html": [
       "<div>\n",
       "<style scoped>\n",
       "    .dataframe tbody tr th:only-of-type {\n",
       "        vertical-align: middle;\n",
       "    }\n",
       "\n",
       "    .dataframe tbody tr th {\n",
       "        vertical-align: top;\n",
       "    }\n",
       "\n",
       "    .dataframe thead th {\n",
       "        text-align: right;\n",
       "    }\n",
       "</style>\n",
       "<table border=\"1\" class=\"dataframe\">\n",
       "  <thead>\n",
       "    <tr style=\"text-align: right;\">\n",
       "      <th></th>\n",
       "      <th>observed_values</th>\n",
       "      <th>diffed_1</th>\n",
       "      <th>diffed_2</th>\n",
       "      <th>diffed_3</th>\n",
       "      <th>lagged_1</th>\n",
       "      <th>lagged_2</th>\n",
       "      <th>lagged_3</th>\n",
       "      <th>target</th>\n",
       "    </tr>\n",
       "    <tr>\n",
       "      <th>Month</th>\n",
       "      <th></th>\n",
       "      <th></th>\n",
       "      <th></th>\n",
       "      <th></th>\n",
       "      <th></th>\n",
       "      <th></th>\n",
       "      <th></th>\n",
       "      <th></th>\n",
       "    </tr>\n",
       "  </thead>\n",
       "  <tbody>\n",
       "    <tr>\n",
       "      <th>1960-06-30</th>\n",
       "      <td>535.0</td>\n",
       "      <td>63.0</td>\n",
       "      <td>74.0</td>\n",
       "      <td>116.0</td>\n",
       "      <td>472.0</td>\n",
       "      <td>461.0</td>\n",
       "      <td>419.0</td>\n",
       "      <td>622.0</td>\n",
       "    </tr>\n",
       "    <tr>\n",
       "      <th>1960-07-31</th>\n",
       "      <td>622.0</td>\n",
       "      <td>87.0</td>\n",
       "      <td>150.0</td>\n",
       "      <td>161.0</td>\n",
       "      <td>535.0</td>\n",
       "      <td>472.0</td>\n",
       "      <td>461.0</td>\n",
       "      <td>606.0</td>\n",
       "    </tr>\n",
       "    <tr>\n",
       "      <th>1960-08-31</th>\n",
       "      <td>606.0</td>\n",
       "      <td>-16.0</td>\n",
       "      <td>71.0</td>\n",
       "      <td>134.0</td>\n",
       "      <td>622.0</td>\n",
       "      <td>535.0</td>\n",
       "      <td>472.0</td>\n",
       "      <td>508.0</td>\n",
       "    </tr>\n",
       "    <tr>\n",
       "      <th>1960-09-30</th>\n",
       "      <td>508.0</td>\n",
       "      <td>-98.0</td>\n",
       "      <td>-114.0</td>\n",
       "      <td>-27.0</td>\n",
       "      <td>606.0</td>\n",
       "      <td>622.0</td>\n",
       "      <td>535.0</td>\n",
       "      <td>461.0</td>\n",
       "    </tr>\n",
       "    <tr>\n",
       "      <th>1960-10-31</th>\n",
       "      <td>461.0</td>\n",
       "      <td>-47.0</td>\n",
       "      <td>-145.0</td>\n",
       "      <td>-161.0</td>\n",
       "      <td>508.0</td>\n",
       "      <td>606.0</td>\n",
       "      <td>622.0</td>\n",
       "      <td>390.0</td>\n",
       "    </tr>\n",
       "  </tbody>\n",
       "</table>\n",
       "</div>"
      ],
      "text/plain": [
       "            observed_values  diffed_1  diffed_2  diffed_3  lagged_1  lagged_2  \\\n",
       "Month                                                                           \n",
       "1960-06-30            535.0      63.0      74.0     116.0     472.0     461.0   \n",
       "1960-07-31            622.0      87.0     150.0     161.0     535.0     472.0   \n",
       "1960-08-31            606.0     -16.0      71.0     134.0     622.0     535.0   \n",
       "1960-09-30            508.0     -98.0    -114.0     -27.0     606.0     622.0   \n",
       "1960-10-31            461.0     -47.0    -145.0    -161.0     508.0     606.0   \n",
       "\n",
       "            lagged_3  target  \n",
       "Month                         \n",
       "1960-06-30     419.0   622.0  \n",
       "1960-07-31     461.0   606.0  \n",
       "1960-08-31     472.0   508.0  \n",
       "1960-09-30     535.0   461.0  \n",
       "1960-10-31     622.0   390.0  "
      ]
     },
     "execution_count": 22,
     "metadata": {},
     "output_type": "execute_result"
    }
   ],
   "source": [
    "# this is just to see X train and y train side by side \n",
    "pd.concat([X_train, y_train], axis=1).tail()"
   ]
  },
  {
   "cell_type": "code",
   "execution_count": 23,
   "metadata": {},
   "outputs": [
    {
     "data": {
      "text/plain": [
       "observed_values    390.0\n",
       "diffed_1           -71.0\n",
       "diffed_2          -118.0\n",
       "diffed_3          -216.0\n",
       "lagged_1           461.0\n",
       "lagged_2           508.0\n",
       "lagged_3           606.0\n",
       "Name: 1960-11-30 00:00:00, dtype: float64"
      ]
     },
     "execution_count": 23,
     "metadata": {},
     "output_type": "execute_result"
    }
   ],
   "source": [
    "# what about our last period X? \n",
    "X_last_period"
   ]
  },
  {
   "cell_type": "markdown",
   "metadata": {},
   "source": [
    "Huzzah! Now we can treat this as a normal regression problem (kind of). \n",
    "\n",
    "Let's try to predict the next day, using a super-basic [vanilla](https://youtu.be/rog8ou-ZepE?t=58s) [Linear Regression](http://scikit-learn.org/stable/modules/generated/sklearn.linear_model.LinearRegression.html): "
   ]
  },
  {
   "cell_type": "code",
   "execution_count": 24,
   "metadata": {},
   "outputs": [],
   "source": [
    "# what's the dumbest, simplest model I can think of? \n",
    "lr = LinearRegression()"
   ]
  },
  {
   "cell_type": "code",
   "execution_count": 25,
   "metadata": {},
   "outputs": [],
   "source": [
    "lr.fit(X_train, y_train);"
   ]
  },
  {
   "cell_type": "markdown",
   "metadata": {},
   "source": [
    "So what would this model predict for our next day?   "
   ]
  },
  {
   "cell_type": "code",
   "execution_count": 26,
   "metadata": {},
   "outputs": [
    {
     "data": {
      "text/plain": [
       "array([375.98517024])"
      ]
     },
     "execution_count": 26,
     "metadata": {},
     "output_type": "execute_result"
    }
   ],
   "source": [
    "lr.predict(X_last_period.values.reshape(1, -1))"
   ]
  },
  {
   "cell_type": "markdown",
   "metadata": {},
   "source": [
    "Note: we will be predicting a single observation, hence the annoying `.values.reshape` stuff. \n",
    "\n",
    "The API changes a bit when predicting a single point. If you forget, Pandas will tell you what to do, so don't worry too much about it)"
   ]
  },
  {
   "cell_type": "markdown",
   "metadata": {},
   "source": [
    "How did our model make its prediction? "
   ]
  },
  {
   "cell_type": "code",
   "execution_count": 27,
   "metadata": {},
   "outputs": [],
   "source": [
    "def explain_linear_regression(lr, features):\n",
    "    \n",
    "    betas = lr.coef_\n",
    "    print('Regression: \\n(%0.3f * %s)' % (betas[0], features[0]))\n",
    "    for i in range(1, len(betas)): \n",
    "        print('+ (%0.3f * %s)' % (betas[i], features[i]))\n"
   ]
  },
  {
   "cell_type": "code",
   "execution_count": 28,
   "metadata": {},
   "outputs": [
    {
     "name": "stdout",
     "output_type": "stream",
     "text": [
      "Regression: \n",
      "(0.461 * observed_values)\n",
      "+ (0.503 * diffed_1)\n",
      "+ (0.204 * diffed_2)\n",
      "+ (0.181 * diffed_3)\n",
      "+ (-0.042 * lagged_1)\n",
      "+ (0.258 * lagged_2)\n",
      "+ (0.280 * lagged_3)\n"
     ]
    }
   ],
   "source": [
    "explain_linear_regression(lr, X_train.columns)"
   ]
  },
  {
   "cell_type": "markdown",
   "metadata": {},
   "source": [
    "---- "
   ]
  },
  {
   "cell_type": "markdown",
   "metadata": {},
   "source": [
    "![](https://i.imgflip.com/2akdo8.jpg)"
   ]
  },
  {
   "cell_type": "markdown",
   "metadata": {},
   "source": [
    "----"
   ]
  },
  {
   "cell_type": "markdown",
   "metadata": {},
   "source": [
    "At this point, we have two options. We can either:\n",
    "\n",
    "1. take the prediction we've just made, feed it as truth into the model, and predict again. \n",
    "2. Just train the model to predict two days in advance. \n",
    "\n",
    "Given that we aren't insane, we'll choose #2. \n"
   ]
  },
  {
   "cell_type": "code",
   "execution_count": 29,
   "metadata": {},
   "outputs": [],
   "source": [
    "X_train, y_train, X_last_period = prepare_for_prediction(airlines, \n",
    "                                                         number_of_periods_ahead=2, \n",
    "                                                         num_diffs=3, \n",
    "                                                        num_periods_lagged=3)"
   ]
  },
  {
   "cell_type": "code",
   "execution_count": 30,
   "metadata": {},
   "outputs": [
    {
     "data": {
      "text/html": [
       "<div>\n",
       "<style scoped>\n",
       "    .dataframe tbody tr th:only-of-type {\n",
       "        vertical-align: middle;\n",
       "    }\n",
       "\n",
       "    .dataframe tbody tr th {\n",
       "        vertical-align: top;\n",
       "    }\n",
       "\n",
       "    .dataframe thead th {\n",
       "        text-align: right;\n",
       "    }\n",
       "</style>\n",
       "<table border=\"1\" class=\"dataframe\">\n",
       "  <thead>\n",
       "    <tr style=\"text-align: right;\">\n",
       "      <th></th>\n",
       "      <th>observed_values</th>\n",
       "      <th>diffed_1</th>\n",
       "      <th>diffed_2</th>\n",
       "      <th>diffed_3</th>\n",
       "      <th>lagged_1</th>\n",
       "      <th>lagged_2</th>\n",
       "      <th>lagged_3</th>\n",
       "      <th>target</th>\n",
       "    </tr>\n",
       "    <tr>\n",
       "      <th>Month</th>\n",
       "      <th></th>\n",
       "      <th></th>\n",
       "      <th></th>\n",
       "      <th></th>\n",
       "      <th></th>\n",
       "      <th></th>\n",
       "      <th></th>\n",
       "      <th></th>\n",
       "    </tr>\n",
       "  </thead>\n",
       "  <tbody>\n",
       "    <tr>\n",
       "      <th>1960-05-31</th>\n",
       "      <td>472.0</td>\n",
       "      <td>11.0</td>\n",
       "      <td>53.0</td>\n",
       "      <td>81.0</td>\n",
       "      <td>461.0</td>\n",
       "      <td>419.0</td>\n",
       "      <td>391.0</td>\n",
       "      <td>622.0</td>\n",
       "    </tr>\n",
       "    <tr>\n",
       "      <th>1960-06-30</th>\n",
       "      <td>535.0</td>\n",
       "      <td>63.0</td>\n",
       "      <td>74.0</td>\n",
       "      <td>116.0</td>\n",
       "      <td>472.0</td>\n",
       "      <td>461.0</td>\n",
       "      <td>419.0</td>\n",
       "      <td>606.0</td>\n",
       "    </tr>\n",
       "    <tr>\n",
       "      <th>1960-07-31</th>\n",
       "      <td>622.0</td>\n",
       "      <td>87.0</td>\n",
       "      <td>150.0</td>\n",
       "      <td>161.0</td>\n",
       "      <td>535.0</td>\n",
       "      <td>472.0</td>\n",
       "      <td>461.0</td>\n",
       "      <td>508.0</td>\n",
       "    </tr>\n",
       "    <tr>\n",
       "      <th>1960-08-31</th>\n",
       "      <td>606.0</td>\n",
       "      <td>-16.0</td>\n",
       "      <td>71.0</td>\n",
       "      <td>134.0</td>\n",
       "      <td>622.0</td>\n",
       "      <td>535.0</td>\n",
       "      <td>472.0</td>\n",
       "      <td>461.0</td>\n",
       "    </tr>\n",
       "    <tr>\n",
       "      <th>1960-09-30</th>\n",
       "      <td>508.0</td>\n",
       "      <td>-98.0</td>\n",
       "      <td>-114.0</td>\n",
       "      <td>-27.0</td>\n",
       "      <td>606.0</td>\n",
       "      <td>622.0</td>\n",
       "      <td>535.0</td>\n",
       "      <td>390.0</td>\n",
       "    </tr>\n",
       "  </tbody>\n",
       "</table>\n",
       "</div>"
      ],
      "text/plain": [
       "            observed_values  diffed_1  diffed_2  diffed_3  lagged_1  lagged_2  \\\n",
       "Month                                                                           \n",
       "1960-05-31            472.0      11.0      53.0      81.0     461.0     419.0   \n",
       "1960-06-30            535.0      63.0      74.0     116.0     472.0     461.0   \n",
       "1960-07-31            622.0      87.0     150.0     161.0     535.0     472.0   \n",
       "1960-08-31            606.0     -16.0      71.0     134.0     622.0     535.0   \n",
       "1960-09-30            508.0     -98.0    -114.0     -27.0     606.0     622.0   \n",
       "\n",
       "            lagged_3  target  \n",
       "Month                         \n",
       "1960-05-31     391.0   622.0  \n",
       "1960-06-30     419.0   606.0  \n",
       "1960-07-31     461.0   508.0  \n",
       "1960-08-31     472.0   461.0  \n",
       "1960-09-30     535.0   390.0  "
      ]
     },
     "execution_count": 30,
     "metadata": {},
     "output_type": "execute_result"
    }
   ],
   "source": [
    "pd.concat([X_train, y_train], axis=1).tail()"
   ]
  },
  {
   "cell_type": "markdown",
   "metadata": {},
   "source": [
    "Quick note: we now have data until `1960-09-30`, we used to have 1 more period. However because we are predicting two periods in advance, we don't have data for the last two days. Makes sense? \n",
    "\n",
    "You will also notice that `X_last_period` is `1960-11-30`, two periods after the last entry in the training data:"
   ]
  },
  {
   "cell_type": "code",
   "execution_count": 31,
   "metadata": {},
   "outputs": [
    {
     "data": {
      "text/plain": [
       "observed_values    390.0\n",
       "diffed_1           -71.0\n",
       "diffed_2          -118.0\n",
       "diffed_3          -216.0\n",
       "lagged_1           461.0\n",
       "lagged_2           508.0\n",
       "lagged_3           606.0\n",
       "Name: 1960-11-30 00:00:00, dtype: float64"
      ]
     },
     "execution_count": 31,
     "metadata": {},
     "output_type": "execute_result"
    }
   ],
   "source": [
    "X_last_period"
   ]
  },
  {
   "cell_type": "markdown",
   "metadata": {},
   "source": [
    "Great! Fit it! "
   ]
  },
  {
   "cell_type": "code",
   "execution_count": 32,
   "metadata": {},
   "outputs": [
    {
     "data": {
      "text/plain": [
       "array([419.54756245])"
      ]
     },
     "execution_count": 32,
     "metadata": {},
     "output_type": "execute_result"
    }
   ],
   "source": [
    "# weeeee \n",
    "lr = LinearRegression()\n",
    "lr.fit(X_train, y_train);\n",
    "lr.predict(X_last_period.values.reshape(1, -1))"
   ]
  },
  {
   "cell_type": "markdown",
   "metadata": {},
   "source": [
    "And yes, that does indeed mean that you can use whatever model you want. "
   ]
  },
  {
   "cell_type": "markdown",
   "metadata": {},
   "source": [
    "![](https://i.imgflip.com/2akf0s.jpg)"
   ]
  },
  {
   "cell_type": "markdown",
   "metadata": {},
   "source": [
    "But beware, fitting the models and particularly validating them by hand is not particularly trivial. \n",
    "\n",
    "\n",
    "# Predicting as many periods as we like "
   ]
  },
  {
   "cell_type": "markdown",
   "metadata": {},
   "source": [
    "(I told you to take the blue pill, Neo.)"
   ]
  },
  {
   "cell_type": "code",
   "execution_count": 33,
   "metadata": {},
   "outputs": [],
   "source": [
    "def predict_period_n(series_, model, number_of_periods_ahead, num_diffs, num_periods_lagged): \n",
    "    \n",
    "        X_train, y_train, X_last_period = prepare_for_prediction(series_, \n",
    "                                                             number_of_periods_ahead, \n",
    "                                                             num_diffs, \n",
    "                                                            num_periods_lagged)\n",
    "        \n",
    "        model.fit(X_train, y_train);\n",
    "        return model.predict(X_last_period.values.reshape(1, -1))"
   ]
  },
  {
   "cell_type": "code",
   "execution_count": 34,
   "metadata": {},
   "outputs": [],
   "source": [
    "def predict_n_periods(series_, n_periods, model, num_diffs, num_periods_lagged): \n",
    "    predictions = []\n",
    "\n",
    "    for period_ahead in range(1, n_periods+1):\n",
    "        pred = predict_period_n(series_=series_, \n",
    "                                model=model, \n",
    "                                number_of_periods_ahead=period_ahead, \n",
    "                                num_diffs=num_diffs,\n",
    "                                num_periods_lagged=num_periods_lagged)\n",
    "        \n",
    "        predictions.append(pred[0])\n",
    "        \n",
    "    return predictions "
   ]
  },
  {
   "cell_type": "markdown",
   "metadata": {},
   "source": [
    "Let's predict a few periods ahead: "
   ]
  },
  {
   "cell_type": "code",
   "execution_count": 35,
   "metadata": {},
   "outputs": [
    {
     "data": {
      "text/plain": [
       "[375.9851702371863, 419.54756244601714]"
      ]
     },
     "execution_count": 35,
     "metadata": {},
     "output_type": "execute_result"
    }
   ],
   "source": [
    "predict_n_periods(series_=airlines, \n",
    "                  n_periods=2, \n",
    "                  model=LinearRegression(), \n",
    "                  num_diffs=3, \n",
    "                  num_periods_lagged=3)"
   ]
  },
  {
   "cell_type": "markdown",
   "metadata": {},
   "source": [
    "## How did we do? "
   ]
  },
  {
   "cell_type": "markdown",
   "metadata": {},
   "source": [
    "Actually we have no idea. We don't actually have the future to know what the answer should be. \n",
    "\n",
    "Let's get a quick split _(you'll get better ways to do this in Part 3 - workflows)_"
   ]
  },
  {
   "cell_type": "code",
   "execution_count": 36,
   "metadata": {},
   "outputs": [],
   "source": [
    "split_date = '1960-02-29'\n",
    "train = airlines.loc[airlines.index < split_date]\n",
    "test = airlines.loc[airlines.index >= split_date].iloc[0:3]"
   ]
  },
  {
   "cell_type": "markdown",
   "metadata": {},
   "source": [
    "Did it work? "
   ]
  },
  {
   "cell_type": "code",
   "execution_count": 37,
   "metadata": {},
   "outputs": [
    {
     "data": {
      "text/plain": [
       "Month\n",
       "1959-12-31    405.0\n",
       "1960-01-31    417.0\n",
       "Freq: M, Name: passengers_thousands, dtype: float64"
      ]
     },
     "execution_count": 37,
     "metadata": {},
     "output_type": "execute_result"
    }
   ],
   "source": [
    "train.tail(2)"
   ]
  },
  {
   "cell_type": "code",
   "execution_count": 38,
   "metadata": {},
   "outputs": [
    {
     "data": {
      "text/plain": [
       "Month\n",
       "1960-02-29    391.0\n",
       "1960-03-31    419.0\n",
       "1960-04-30    461.0\n",
       "Freq: M, Name: passengers_thousands, dtype: float64"
      ]
     },
     "execution_count": 38,
     "metadata": {},
     "output_type": "execute_result"
    }
   ],
   "source": [
    "test"
   ]
  },
  {
   "cell_type": "markdown",
   "metadata": {},
   "source": [
    "Yep. Now, let's train on `train`, and predict 4 days of `test`"
   ]
  },
  {
   "cell_type": "code",
   "execution_count": 39,
   "metadata": {},
   "outputs": [
    {
     "name": "stdout",
     "output_type": "stream",
     "text": [
      "Predictions: [418.7765068623498, 421.668065081549, 405.70519573607316]\n",
      "\n",
      "How wrong were we on each day?\n",
      "Month\n",
      "1960-02-29   -27.776507\n",
      "1960-03-31    -2.668065\n",
      "1960-04-30    55.294804\n",
      "Freq: M, Name: passengers_thousands, dtype: float64\n"
     ]
    }
   ],
   "source": [
    "predictions = predict_n_periods(series_=train, \n",
    "                  n_periods=3, \n",
    "                  model=LinearRegression(), \n",
    "                  num_diffs=3, \n",
    "                  num_periods_lagged=3)\n",
    "\n",
    "print('Predictions: %s'  % predictions)\n",
    "\n",
    "print('\\nHow wrong were we on each day?')\n",
    "print(test - predictions)"
   ]
  },
  {
   "cell_type": "markdown",
   "metadata": {},
   "source": [
    "Not amazing... How about more features? "
   ]
  },
  {
   "cell_type": "code",
   "execution_count": 40,
   "metadata": {},
   "outputs": [
    {
     "name": "stdout",
     "output_type": "stream",
     "text": [
      "Predictions: [415.6171997346689, 423.21634069801127, 415.83073167649667]\n",
      "\n",
      "How wrong were we on each day?\n",
      "Month\n",
      "1960-02-29   -24.617200\n",
      "1960-03-31    -4.216341\n",
      "1960-04-30    45.169268\n",
      "Freq: M, Name: passengers_thousands, dtype: float64\n"
     ]
    }
   ],
   "source": [
    "predictions = predict_n_periods(series_=train, \n",
    "                  n_periods=3, \n",
    "                  model=LinearRegression(), \n",
    "                  num_diffs=7, \n",
    "                  num_periods_lagged=7)\n",
    "\n",
    "print('Predictions: %s'  % predictions)\n",
    "\n",
    "print('\\nHow wrong were we on each day?')\n",
    "print(test - predictions)"
   ]
  },
  {
   "cell_type": "markdown",
   "metadata": {},
   "source": [
    "Meh. Different model? "
   ]
  },
  {
   "cell_type": "code",
   "execution_count": 42,
   "metadata": {},
   "outputs": [
    {
     "name": "stdout",
     "output_type": "stream",
     "text": [
      "Predictions: [425.38838998426763, 424.73036836782273, 397.71502562247014]\n",
      "\n",
      "How wrong were we on each day?\n",
      "Month\n",
      "1960-02-29   -34.388390\n",
      "1960-03-31    -5.730368\n",
      "1960-04-30    63.284974\n",
      "Freq: M, Name: passengers_thousands, dtype: float64\n"
     ]
    }
   ],
   "source": [
    "predictions = predict_n_periods(series_=train, \n",
    "                  n_periods=3, \n",
    "                  model=RandomForestRegressor(n_estimators=100, max_depth=3, min_samples_split=4), \n",
    "                  num_diffs=7, \n",
    "                  num_periods_lagged=7)\n",
    "\n",
    "print('Predictions: %s'  % predictions)\n",
    "\n",
    "print('\\nHow wrong were we on each day?')\n",
    "print(test - predictions)"
   ]
  },
  {
   "cell_type": "markdown",
   "metadata": {},
   "source": [
    "... and so on and so forth. "
   ]
  },
  {
   "cell_type": "markdown",
   "metadata": {},
   "source": [
    "# Is this useful at all? "
   ]
  },
  {
   "cell_type": "markdown",
   "metadata": {},
   "source": [
    "As with so many things in life, it depends. In some cases, a simple model is the best answer, and avoiding getting stuck in complex timeseries models like SARIMAX can be useful. \n",
    "\n",
    "Maybe you just want to backtest your theory that the price of Apple is linearly dependent on the previous 4 days, or want ot throw a Tree at the data, and see what comes back for the sake of interpretability. \n",
    "\n",
    "Consider it another tool in your toolbelt, but one you don't necessarily need to pull out, unless the normal tools are failing you. And now, Part 3, the last one before the hackathon: workflows! "
   ]
  }
 ],
 "metadata": {
  "kernelspec": {
   "display_name": "Python 3",
   "language": "python",
   "name": "python3"
  },
  "language_info": {
   "codemirror_mode": {
    "name": "ipython",
    "version": 3
   },
   "file_extension": ".py",
   "mimetype": "text/x-python",
   "name": "python",
   "nbconvert_exporter": "python",
   "pygments_lexer": "ipython3",
   "version": "3.6.5"
  }
 },
 "nbformat": 4,
 "nbformat_minor": 2
}
