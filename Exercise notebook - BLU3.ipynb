{
 "cells": [
  {
   "cell_type": "code",
   "execution_count": null,
   "metadata": {
    "deletable": false,
    "editable": false,
    "nbgrader": {
     "checksum": "9e5eb46140243a92de5120fe24979e9f",
     "grade": false,
     "grade_id": "cell-f432916a96c12550",
     "locked": true,
     "schema_version": 1,
     "solution": false
    }
   },
   "outputs": [],
   "source": [
    "import warnings\n",
    "warnings.filterwarnings(action=\"ignore\")\n",
    "\n",
    "import pandas as pd \n",
    "import numpy as np \n",
    "import statsmodels.api as sm\n",
    "import math\n",
    "import itertools\n",
    "\n",
    "from sklearn.linear_model import LinearRegression\n",
    "from sklearn.metrics import mean_absolute_error\n",
    "from sklearn.metrics import r2_score\n",
    "\n",
    "% matplotlib inline \n",
    "import matplotlib.pyplot as plt\n",
    "plt.rcParams[\"figure.figsize\"] = (16, 6)"
   ]
  },
  {
   "cell_type": "code",
   "execution_count": null,
   "metadata": {
    "deletable": false,
    "editable": false,
    "nbgrader": {
     "checksum": "1584805e2631ce8133ce072cd791e85f",
     "grade": false,
     "grade_id": "cell-35476acfef453503",
     "locked": true,
     "schema_version": 1,
     "solution": false
    }
   },
   "outputs": [],
   "source": [
    "def load_airline_data():\n",
    "    airlines = pd.read_csv('data/international-airline-passengers.csv', \n",
    "                       index_col='Month')[:-1]\n",
    "\n",
    "    airlines.columns = ['passengers_thousands']\n",
    "    airlines = airlines['passengers_thousands']\n",
    "    airlines.index = pd.to_datetime(airlines.index)\n",
    "    \n",
    "    return airlines"
   ]
  },
  {
   "cell_type": "code",
   "execution_count": null,
   "metadata": {
    "deletable": false,
    "editable": false,
    "nbgrader": {
     "checksum": "695fe7b53233339379ec8570437afc46",
     "grade": false,
     "grade_id": "cell-8501d476b540165f",
     "locked": true,
     "schema_version": 1,
     "solution": false
    }
   },
   "outputs": [],
   "source": [
    "def plot_predictions(series_, pred_):\n",
    "    \n",
    "    \"\"\" \n",
    "    Remember Sam told us to build functions as we go? Let's not write this stuff again. \n",
    "    \"\"\"\n",
    "    \n",
    "    mean_predictions_ = pred_.predicted_mean\n",
    "\n",
    "    pred_ci_ = pred_.conf_int()\n",
    "    \n",
    "    series_.plot(label='observed')\n",
    "    mean_predictions_.plot(label='predicted', \n",
    "                           alpha=.7)\n",
    "\n",
    "    plt.fill_between(pred_ci_.index,\n",
    "                     pred_ci_.iloc[:, 0],\n",
    "                     pred_ci_.iloc[:, 1], \n",
    "                     color='k', \n",
    "                     alpha=.2)\n",
    "    plt.legend()\n",
    "    plt.show()"
   ]
  },
  {
   "cell_type": "code",
   "execution_count": null,
   "metadata": {
    "deletable": false,
    "editable": false,
    "nbgrader": {
     "checksum": "55403cf50bc3df23416af80b52e5607b",
     "grade": false,
     "grade_id": "cell-b2431c89dc20f012",
     "locked": true,
     "schema_version": 1,
     "solution": false
    }
   },
   "outputs": [],
   "source": [
    "def get_aic(series_, params):\n",
    "    p = params[0] \n",
    "    d = params[1] \n",
    "    q = params[2] \n",
    "    P = params[3]\n",
    "    D = params[4] \n",
    "    Q = params[5]\n",
    "    S = params[6]\n",
    "    \n",
    "    model = sm.tsa.statespace.SARIMAX(series_,\n",
    "                                      order=(p, d, q),\n",
    "                                      seasonal_order=(P, D, Q, S),\n",
    "                                      enforce_stationarity=False,\n",
    "                                      enforce_invertibility=False)\n",
    "    results = model.fit()\n",
    "    \n",
    "    return results.aic\n",
    "\n",
    "\n",
    "def get_best_params(series_, inputs):\n",
    "    \n",
    "    aic_scores = {}\n",
    "    params_index = {}\n",
    "\n",
    "    for i in range(len(inputs)):\n",
    "        # this just prints a kind of progress bar, you can use tqdm if you like \n",
    "        print('%0.1f%%' % (i/len(inputs)*100), end=', ')\n",
    "        try: \n",
    "            param_set = inputs[i]\n",
    "            aic = get_aic(series_, param_set) \n",
    "            aic_scores[i] = aic\n",
    "            params_index[i] = param_set\n",
    "\n",
    "        except Exception as e: \n",
    "            continue\n",
    "\n",
    "    temp = pd.DataFrame(params_index).T\n",
    "    temp.columns = ['p', 'd', 'q', 'P', 'D', 'Q', 'S']\n",
    "    temp['aic'] = pd.Series(aic_scores)\n",
    "    temp.sort_values('aic').head()\n",
    "\n",
    "    best_model_params = temp.aic.idxmin()\n",
    "\n",
    "    return temp.loc[best_model_params]"
   ]
  },
  {
   "cell_type": "code",
   "execution_count": null,
   "metadata": {
    "deletable": false,
    "editable": false,
    "nbgrader": {
     "checksum": "af81101ebf0fea1f2bf164f0ee03dd84",
     "grade": false,
     "grade_id": "cell-772736c81fef7fe3",
     "locked": true,
     "schema_version": 1,
     "solution": false
    }
   },
   "outputs": [],
   "source": [
    "def get_inputs():\n",
    "    p = d = q = P = D = Q = range(0, 2)\n",
    "    S = 7\n",
    "\n",
    "    params_combinations = list(itertools.product(p, d, q, P, D, Q))\n",
    "    inputs = [[x[0], x[1], x[2], x[3], x[4], x[5], S] for x in params_combinations]\n",
    "    return inputs"
   ]
  },
  {
   "cell_type": "markdown",
   "metadata": {
    "deletable": false,
    "editable": false,
    "nbgrader": {
     "checksum": "bea39e85ab5e277654923ae6b1f2730f",
     "grade": false,
     "grade_id": "cell-6a7938547cc60bf0",
     "locked": true,
     "schema_version": 1,
     "solution": false
    }
   },
   "source": [
    "We already know this dataset! "
   ]
  },
  {
   "cell_type": "code",
   "execution_count": null,
   "metadata": {
    "deletable": false,
    "editable": false,
    "nbgrader": {
     "checksum": "231aa43c1e21eb0fbebc2b7cf4775582",
     "grade": false,
     "grade_id": "cell-29e172a4a69839d9",
     "locked": true,
     "schema_version": 1,
     "solution": false
    }
   },
   "outputs": [],
   "source": [
    "airlines = load_airline_data()"
   ]
  },
  {
   "cell_type": "code",
   "execution_count": null,
   "metadata": {
    "deletable": false,
    "editable": false,
    "nbgrader": {
     "checksum": "84cf95bdcd1016819b54ad653959e401",
     "grade": false,
     "grade_id": "cell-04b6b0b7b38f687b",
     "locked": true,
     "schema_version": 1,
     "solution": false
    }
   },
   "outputs": [],
   "source": [
    "airlines.head()"
   ]
  },
  {
   "cell_type": "code",
   "execution_count": null,
   "metadata": {
    "deletable": false,
    "editable": false,
    "nbgrader": {
     "checksum": "299d67653bb42b7897695a2edfd9d8e2",
     "grade": false,
     "grade_id": "cell-35b17b02e01837cb",
     "locked": true,
     "schema_version": 1,
     "solution": false
    }
   },
   "outputs": [],
   "source": [
    "airlines.plot();"
   ]
  },
  {
   "cell_type": "markdown",
   "metadata": {
    "deletable": false,
    "editable": false,
    "nbgrader": {
     "checksum": "003695483174637d17def18b57798ecf",
     "grade": false,
     "grade_id": "cell-d51415300acf4442",
     "locked": true,
     "schema_version": 1,
     "solution": false
    }
   },
   "source": [
    "### Split the data set in train and test (consider test after the year of 1957)"
   ]
  },
  {
   "cell_type": "markdown",
   "metadata": {
    "deletable": false,
    "editable": false,
    "nbgrader": {
     "checksum": "9bbfaaa8ff42bea82343ef4c99704655",
     "grade": false,
     "grade_id": "cell-e2935a9d448e7036",
     "locked": true,
     "schema_version": 1,
     "solution": false
    }
   },
   "source": [
    "### Exercise"
   ]
  },
  {
   "cell_type": "code",
   "execution_count": null,
   "metadata": {
    "deletable": false,
    "editable": false,
    "nbgrader": {
     "checksum": "6f98d9f4f08c571f60bb957f61967de8",
     "grade": false,
     "grade_id": "cell-f67df60cc8a4052a",
     "locked": true,
     "schema_version": 1,
     "solution": false
    }
   },
   "outputs": [],
   "source": [
    "airlines = load_airline_data()[:'1957'] # train \n",
    "airlines_test = load_airline_data()['1958':] # test"
   ]
  },
  {
   "cell_type": "markdown",
   "metadata": {
    "deletable": false,
    "editable": false,
    "nbgrader": {
     "checksum": "d632f9511205e55fc889d96cea2ef968",
     "grade": false,
     "grade_id": "cell-0b709d1966c944ef",
     "locked": true,
     "schema_version": 1,
     "solution": false
    }
   },
   "source": [
    "### Q1. Fit your SARIMAX model and get in sample predictions, starting from the first period of the training dataset (and not the test dataset)\n",
    "\n",
    "* Use (p,d,q) = (0,1,1)\n",
    "* Use seasonal_order = (1,1,1,12)\n",
    "* enforce_stationarity=False  \n",
    "* enforce_invertibility=True"
   ]
  },
  {
   "cell_type": "markdown",
   "metadata": {
    "deletable": false,
    "editable": false,
    "nbgrader": {
     "checksum": "43a1963638a49f45b10ac1791fb37fb5",
     "grade": false,
     "grade_id": "cell-3367c4b3d373c0dd",
     "locked": true,
     "schema_version": 1,
     "solution": false
    }
   },
   "source": [
    "### Exercise"
   ]
  },
  {
   "cell_type": "code",
   "execution_count": null,
   "metadata": {
    "deletable": false,
    "nbgrader": {
     "checksum": "f3f29b9f4a9ba89eb441d5a6722e732c",
     "grade": false,
     "grade_id": "cell-b82473546e156e73",
     "locked": false,
     "schema_version": 1,
     "solution": true
    }
   },
   "outputs": [],
   "source": [
    "# order = (p,d,q)\n",
    "# seasonal_order = (P,D,Q,s)\n",
    "\n",
    "# model = # call your SARIMAX\n",
    "# results = # fit your model\n",
    "\n",
    "# YOUR CODE HERE\n",
    "raise NotImplementedError()"
   ]
  },
  {
   "cell_type": "code",
   "execution_count": null,
   "metadata": {
    "deletable": false,
    "nbgrader": {
     "checksum": "6169228caf52d8ae1b1ac116f807cbeb",
     "grade": false,
     "grade_id": "cell-c07b42d1ac429b7a",
     "locked": false,
     "schema_version": 1,
     "solution": true
    }
   },
   "outputs": [],
   "source": [
    "# get in sample predictions\n",
    "\n",
    "# pred = # \n",
    "# mean_predictions = # \n",
    "\n",
    "\n",
    "# YOUR CODE HERE\n",
    "raise NotImplementedError()"
   ]
  },
  {
   "cell_type": "code",
   "execution_count": null,
   "metadata": {
    "deletable": false,
    "editable": false,
    "nbgrader": {
     "checksum": "ea7808a606551668bf73746acf6a3c54",
     "grade": true,
     "grade_id": "cell-2d06c4c2dd3bf59c",
     "locked": true,
     "points": 1,
     "schema_version": 1,
     "solution": false
    }
   },
   "outputs": [],
   "source": [
    "assert order == (0, 1, 1)\n",
    "assert seasonal_order == (1, 1, 1, 12)\n",
    "assert math.isclose(mean_predictions.sum(), 24838.36, abs_tol=0.5)"
   ]
  },
  {
   "cell_type": "code",
   "execution_count": null,
   "metadata": {
    "deletable": false,
    "editable": false,
    "nbgrader": {
     "checksum": "ca8dc30fac5dda93e50706822c02ff58",
     "grade": false,
     "grade_id": "cell-f92d6f928ee77309",
     "locked": true,
     "schema_version": 1,
     "solution": false
    }
   },
   "outputs": [],
   "source": [
    "# plot this\n",
    "airlines.plot(label='observed', figsize=(16, 4))\n",
    "mean_predictions.plot(label='One-step ahead Forecast with dynamic=False', alpha=.7)\n",
    "plt.legend()"
   ]
  },
  {
   "cell_type": "markdown",
   "metadata": {
    "deletable": false,
    "editable": false,
    "nbgrader": {
     "checksum": "42acce6ab750a8fd2c85750871271dc9",
     "grade": false,
     "grade_id": "cell-269f74f04b9d2ea0",
     "locked": true,
     "schema_version": 1,
     "solution": false
    }
   },
   "source": [
    "### Q1.1: Get confidence intervals and plot it"
   ]
  },
  {
   "cell_type": "code",
   "execution_count": null,
   "metadata": {
    "deletable": false,
    "nbgrader": {
     "checksum": "233d97353b21a11658544ecb15b8cdc0",
     "grade": false,
     "grade_id": "cell-3a6e17242f664d55",
     "locked": false,
     "schema_version": 1,
     "solution": true
    }
   },
   "outputs": [],
   "source": [
    "# pred_ci = # get the confidence interval for the predictions\n",
    "\n",
    "# YOUR CODE HERE\n",
    "raise NotImplementedError()"
   ]
  },
  {
   "cell_type": "code",
   "execution_count": null,
   "metadata": {
    "deletable": false,
    "editable": false,
    "nbgrader": {
     "checksum": "5ca300df4bd036589a2634a6f00d225e",
     "grade": false,
     "grade_id": "cell-5c4d2ee1f175d66c",
     "locked": true,
     "schema_version": 1,
     "solution": false
    }
   },
   "outputs": [],
   "source": [
    "airlines.plot(label='observed')\n",
    "mean_predictions.plot(label='One-step ahead Forecast with dynamic=False', alpha=.7)\n",
    "\n",
    "plt.fill_between(pred_ci.index,\n",
    "                 pred_ci['lower passengers_thousands'],\n",
    "                 pred_ci['upper passengers_thousands'], \n",
    "                 color='k', \n",
    "                 alpha=.2)\n",
    "\n",
    "plt.ylim([0, 700])\n",
    "plt.legend()\n",
    "plt.show()"
   ]
  },
  {
   "cell_type": "code",
   "execution_count": null,
   "metadata": {
    "deletable": false,
    "editable": false,
    "nbgrader": {
     "checksum": "36d6a1dc95324fee55da3a94c4177217",
     "grade": true,
     "grade_id": "cell-6d258453916bd996",
     "locked": true,
     "points": 1,
     "schema_version": 1,
     "solution": false
    }
   },
   "outputs": [],
   "source": [
    "assert math.isclose(pred_ci.mean()[0], -24.61, abs_tol=0.5)\n",
    "assert math.isclose(pred_ci.mean()[1], 484.58, abs_tol=0.5)"
   ]
  },
  {
   "cell_type": "markdown",
   "metadata": {
    "deletable": false,
    "editable": false,
    "nbgrader": {
     "checksum": "cf64bd00ee307285f76578c41cf0b9e3",
     "grade": false,
     "grade_id": "cell-87674b07698f7d0b",
     "locked": true,
     "schema_version": 1,
     "solution": false
    }
   },
   "source": [
    "### Q2: Predict the future! Forecast 36 months ahead and plot it against the test set "
   ]
  },
  {
   "cell_type": "markdown",
   "metadata": {
    "deletable": false,
    "editable": false,
    "nbgrader": {
     "checksum": "5750b801cf7981a9ef4a627b08f63910",
     "grade": false,
     "grade_id": "cell-4ea37826e8acbf33",
     "locked": true,
     "schema_version": 1,
     "solution": false
    }
   },
   "source": [
    "### Exercise"
   ]
  },
  {
   "cell_type": "code",
   "execution_count": null,
   "metadata": {
    "deletable": false,
    "nbgrader": {
     "checksum": "6742cc6b735f62641ae47493e05d5c92",
     "grade": false,
     "grade_id": "cell-6d9a332a6dc7e3b8",
     "locked": false,
     "schema_version": 1,
     "solution": true
    }
   },
   "outputs": [],
   "source": [
    "# forecast = # get your forecast object\n",
    "# forecast_pred = # get your predictions\n",
    "# forecast_ci = # get your confidence interval for the forecast\n",
    "\n",
    "# YOUR CODE HERE\n",
    "raise NotImplementedError()"
   ]
  },
  {
   "cell_type": "code",
   "execution_count": null,
   "metadata": {
    "deletable": false,
    "editable": false,
    "nbgrader": {
     "checksum": "8511ddfdb2f161e6fe89ff5027cc3fd8",
     "grade": false,
     "grade_id": "cell-02635ff1293e6260",
     "locked": true,
     "schema_version": 1,
     "solution": false
    }
   },
   "outputs": [],
   "source": [
    "airlines.plot(label='train')\n",
    "forecast_pred.plot(label='predicted')\n",
    "airlines_test.plot(label='test')\n",
    "plt.legend()\n",
    "plt.show()"
   ]
  },
  {
   "cell_type": "code",
   "execution_count": null,
   "metadata": {
    "deletable": false,
    "editable": false,
    "nbgrader": {
     "checksum": "6918ed28ca22e50ad6563a9643909707",
     "grade": false,
     "grade_id": "cell-7cade8ff10dea6d7",
     "locked": true,
     "schema_version": 1,
     "solution": false
    }
   },
   "outputs": [],
   "source": [
    "forecast_ci.mean()[1]"
   ]
  },
  {
   "cell_type": "code",
   "execution_count": null,
   "metadata": {
    "deletable": false,
    "editable": false,
    "nbgrader": {
     "checksum": "349c79d476377c65693ed038c440e74a",
     "grade": true,
     "grade_id": "cell-a3d6e9dedcb6ff5a",
     "locked": true,
     "points": 2,
     "schema_version": 1,
     "solution": false
    }
   },
   "outputs": [],
   "source": [
    "assert math.isclose(forecast_pred.sum(), 15445.9, abs_tol=0.5)\n",
    "assert math.isclose(forecast_ci.mean()[0], 338.2, abs_tol=0.5)\n",
    "assert math.isclose(forecast_ci.mean()[1], 519.8, abs_tol=0.5)"
   ]
  },
  {
   "cell_type": "code",
   "execution_count": null,
   "metadata": {
    "deletable": false,
    "editable": false,
    "nbgrader": {
     "checksum": "c39164e08e5f94e0077bb5e223f8c87f",
     "grade": false,
     "grade_id": "cell-5b13f401aaeadac6",
     "locked": true,
     "schema_version": 1,
     "solution": false
    }
   },
   "outputs": [],
   "source": [
    "# plot this \n",
    "\n",
    "plot_predictions(series_=airlines, pred_=forecast)"
   ]
  },
  {
   "cell_type": "markdown",
   "metadata": {
    "deletable": false,
    "editable": false,
    "nbgrader": {
     "checksum": "6e9fe7f84fb405997fde733e81f2222c",
     "grade": false,
     "grade_id": "cell-2c66a2dc0a67b1f7",
     "locked": true,
     "schema_version": 1,
     "solution": false
    }
   },
   "source": [
    "### Q3: Calculate the $R^{2}$ for your forecast and the `airline_test` "
   ]
  },
  {
   "cell_type": "markdown",
   "metadata": {
    "deletable": false,
    "editable": false,
    "nbgrader": {
     "checksum": "75d94763def73acf918787e5296dc510",
     "grade": false,
     "grade_id": "cell-f0f379a4a33cac6e",
     "locked": true,
     "schema_version": 1,
     "solution": false
    }
   },
   "source": [
    "#### Exercise"
   ]
  },
  {
   "cell_type": "code",
   "execution_count": null,
   "metadata": {
    "deletable": false,
    "nbgrader": {
     "checksum": "6c7ca7f62125fec9b2a5a96b2e8db87b",
     "grade": false,
     "grade_id": "cell-4f705a5ff297e40b",
     "locked": false,
     "schema_version": 1,
     "solution": true
    }
   },
   "outputs": [],
   "source": [
    "# y_pred = \n",
    "# y_true = \n",
    "\n",
    "# r2 = # use sklearn r2_score\n",
    "\n",
    "# YOUR CODE HERE\n",
    "raise NotImplementedError()"
   ]
  },
  {
   "cell_type": "code",
   "execution_count": null,
   "metadata": {
    "deletable": false,
    "editable": false,
    "nbgrader": {
     "checksum": "a8b883fbc634281b42597295929c4d0b",
     "grade": true,
     "grade_id": "cell-9c3a87181d23b704",
     "locked": true,
     "points": 2,
     "schema_version": 1,
     "solution": false
    }
   },
   "outputs": [],
   "source": [
    "assert math.isclose(y_pred.sum(), 15445.91, abs_tol=0.5)\n",
    "assert math.isclose(r2, 0.9232, abs_tol=0.5)"
   ]
  },
  {
   "cell_type": "markdown",
   "metadata": {
    "deletable": false,
    "editable": false,
    "nbgrader": {
     "checksum": "8d820c52d428b83fba55f82fb8b74233",
     "grade": false,
     "grade_id": "cell-0039cae172ff0b5e",
     "locked": true,
     "schema_version": 1,
     "solution": false
    }
   },
   "source": [
    "Ok all good for now but let's see what we can do with timeseries without using timeseries tools."
   ]
  },
  {
   "cell_type": "markdown",
   "metadata": {
    "deletable": false,
    "editable": false,
    "nbgrader": {
     "checksum": "41c2073dd77dc38e91e6c8c69e73fa2e",
     "grade": false,
     "grade_id": "cell-e73d517201fc9618",
     "locked": true,
     "schema_version": 1,
     "solution": false
    }
   },
   "source": [
    "## Workflow"
   ]
  },
  {
   "cell_type": "markdown",
   "metadata": {
    "deletable": false,
    "editable": false,
    "nbgrader": {
     "checksum": "cd23f8cc4293e81b1daf6e3f3caaf259",
     "grade": false,
     "grade_id": "cell-7a256e75bec75708",
     "locked": true,
     "schema_version": 1,
     "solution": false
    }
   },
   "source": [
    "### Q4"
   ]
  },
  {
   "cell_type": "code",
   "execution_count": null,
   "metadata": {
    "deletable": false,
    "editable": false,
    "nbgrader": {
     "checksum": "c0ec258aaad30d7abad2bd4b057a0cce",
     "grade": false,
     "grade_id": "cell-75e0e8d7f0c854ec",
     "locked": true,
     "schema_version": 1,
     "solution": false
    }
   },
   "outputs": [],
   "source": [
    "train = pd.read_csv('data/train.csv')\n",
    "test = pd.read_csv('data/test.csv')"
   ]
  },
  {
   "cell_type": "markdown",
   "metadata": {
    "deletable": false,
    "editable": false,
    "nbgrader": {
     "checksum": "9bef51d0335288fe83f2ca37487815dc",
     "grade": false,
     "grade_id": "cell-56832ade77bbdd53",
     "locked": true,
     "schema_version": 1,
     "solution": false
    }
   },
   "source": [
    "### Q4.1: Get a quick benchmark with last days sales of each store with AIC"
   ]
  },
  {
   "cell_type": "code",
   "execution_count": null,
   "metadata": {
    "deletable": false,
    "nbgrader": {
     "checksum": "7394cddd664c97d20780a4cea291a155",
     "grade": false,
     "grade_id": "cell-b28c46154504febe",
     "locked": false,
     "schema_version": 1,
     "solution": true
    }
   },
   "outputs": [],
   "source": [
    "# get your multi-index and store\n",
    "# train['Date'] = # get your datetime \n",
    "# train = # set the index, first the Date then Store\n",
    "# train = # sort it! \n",
    "# idx = # create your index slicer\n",
    "\n",
    "# YOUR CODE HERE\n",
    "raise NotImplementedError()"
   ]
  },
  {
   "cell_type": "code",
   "execution_count": null,
   "metadata": {
    "deletable": false,
    "editable": false,
    "nbgrader": {
     "checksum": "26020b62c88f6d872b7b15f4d860e697",
     "grade": true,
     "grade_id": "cell-1931fc5b18a391d2",
     "locked": true,
     "points": 1,
     "schema_version": 1,
     "solution": false
    }
   },
   "outputs": [],
   "source": [
    "assert train.iloc[-1][0] == 11354"
   ]
  },
  {
   "cell_type": "markdown",
   "metadata": {
    "deletable": false,
    "editable": false,
    "nbgrader": {
     "checksum": "5cf4ddebf660dab294447d787f236e93",
     "grade": false,
     "grade_id": "cell-b72ee515be80fdfc",
     "locked": true,
     "schema_version": 1,
     "solution": false
    }
   },
   "source": [
    "#### split train test: use the last 4 days as test"
   ]
  },
  {
   "cell_type": "code",
   "execution_count": null,
   "metadata": {
    "deletable": false,
    "nbgrader": {
     "checksum": "03662b5385690bc496341d0609a90fc4",
     "grade": false,
     "grade_id": "cell-507c68dbb724d626",
     "locked": false,
     "schema_version": 1,
     "solution": true
    }
   },
   "outputs": [],
   "source": [
    "# train test split\n",
    "\n",
    "# new_train = # train without the last 4 days\n",
    "# new_test = # the last 4 days \n",
    "\n",
    "# YOUR CODE HERE\n",
    "raise NotImplementedError()"
   ]
  },
  {
   "cell_type": "code",
   "execution_count": null,
   "metadata": {
    "deletable": false,
    "editable": false,
    "nbgrader": {
     "checksum": "5e0ef0a43f288a9f35a37d1fed46fcc6",
     "grade": true,
     "grade_id": "cell-328f5776a0a52008",
     "locked": true,
     "points": 2,
     "schema_version": 1,
     "solution": false
    }
   },
   "outputs": [],
   "source": [
    "assert new_train.shape[0] == 20400\n",
    "assert new_test.shape[0] == 400"
   ]
  },
  {
   "cell_type": "markdown",
   "metadata": {
    "deletable": false,
    "editable": false,
    "nbgrader": {
     "checksum": "dbb23df30944088391d24a3264b4ea00",
     "grade": false,
     "grade_id": "cell-0453fe46ad9a08df",
     "locked": true,
     "schema_version": 1,
     "solution": false
    }
   },
   "source": [
    "#### make a quick benchmark with the sales of the last day of each store"
   ]
  },
  {
   "cell_type": "code",
   "execution_count": null,
   "metadata": {
    "deletable": false,
    "nbgrader": {
     "checksum": "3edc3abf6a99f8d404036a2961864242",
     "grade": false,
     "grade_id": "cell-59de2eec7cd01128",
     "locked": false,
     "schema_version": 1,
     "solution": true
    }
   },
   "outputs": [],
   "source": [
    "# get a quick benchmark\n",
    "\n",
    "# last_day = # gets the sale of each store on the last day of our training dataset\n",
    "# new_test['predictions'] = # set it to zero\n",
    "# days_in_test_set = # list of the unique values of the dates to predict\n",
    "\n",
    "# for day in days_in_test_set: \n",
    "    # new_test.loc[idx[day, :], 'predictions'] = # assign it to the Sales' last day\n",
    "\n",
    "# y_true = # get the true Sales values from the test\n",
    "# y_pred = # get your predictions\n",
    "# mean_absolute_error = # get the mean absolute error betwee y_true and y_pred\n",
    "\n",
    "# YOUR CODE HERE\n",
    "raise NotImplementedError()"
   ]
  },
  {
   "cell_type": "code",
   "execution_count": null,
   "metadata": {
    "deletable": false,
    "editable": false,
    "nbgrader": {
     "checksum": "fa238116a8c4682687b9685b12bbd5da",
     "grade": true,
     "grade_id": "cell-5b419bd35318c5fa",
     "locked": true,
     "points": 3,
     "schema_version": 1,
     "solution": false
    }
   },
   "outputs": [],
   "source": [
    "assert y_pred[idx['2015-07-24', 1]][0] == 3769\n",
    "assert y_true[idx['2015-07-24', 1]][0] == 3706"
   ]
  },
  {
   "cell_type": "markdown",
   "metadata": {
    "deletable": false,
    "editable": false,
    "nbgrader": {
     "checksum": "8e3324801cdd1f93aa4836db34ad23f3",
     "grade": false,
     "grade_id": "cell-99667ea149b13691",
     "locked": true,
     "schema_version": 1,
     "solution": false
    }
   },
   "source": [
    "### Q4.2: Use SARIMAX with grid search to predict the sales of the store for the same days you were predicing in 4.1"
   ]
  },
  {
   "cell_type": "code",
   "execution_count": null,
   "metadata": {
    "deletable": false,
    "nbgrader": {
     "checksum": "68062b06407b878c89f515865c5f5267",
     "grade": false,
     "grade_id": "cell-4c872fbc50aa96eb",
     "locked": false,
     "schema_version": 1,
     "solution": true
    }
   },
   "outputs": [],
   "source": [
    "# store_4 = filter your store with the number 4\n",
    "# store_4.index = drop the level \"Store\" \n",
    "\n",
    "# YOUR CODE HERE\n",
    "raise NotImplementedError()"
   ]
  },
  {
   "cell_type": "code",
   "execution_count": null,
   "metadata": {
    "deletable": false,
    "editable": false,
    "nbgrader": {
     "checksum": "e21a39a8f3b0b62156b16ddde2e6953a",
     "grade": true,
     "grade_id": "cell-e53d35346756c359",
     "locked": true,
     "points": 1,
     "schema_version": 1,
     "solution": false
    }
   },
   "outputs": [],
   "source": [
    "assert store_4.sum() == 1657224"
   ]
  },
  {
   "cell_type": "markdown",
   "metadata": {
    "deletable": false,
    "editable": false,
    "nbgrader": {
     "checksum": "ae1681876c6b6517bde805f218437968",
     "grade": false,
     "grade_id": "cell-635b91096e0359d8",
     "locked": true,
     "schema_version": 1,
     "solution": false
    }
   },
   "source": [
    "#### for the SARIMAX model, start with the following arguments: \n",
    "* order=(0, 1, 0)\n",
    "* seasonal_order=(1, 1, 1, 7) \n",
    "* enforce_stationarity=False  \n",
    "* enforce_invertibility=False"
   ]
  },
  {
   "cell_type": "code",
   "execution_count": null,
   "metadata": {
    "deletable": false,
    "nbgrader": {
     "checksum": "6c571f6e1d3dda97027dbb8f8473b188",
     "grade": false,
     "grade_id": "cell-caf1fb05f062f581",
     "locked": false,
     "schema_version": 1,
     "solution": true
    }
   },
   "outputs": [],
   "source": [
    "# model = create your SARIMAX model\n",
    "# results = fit your model\n",
    "# aic = # get the aic\n",
    "\n",
    "# YOUR CODE HERE\n",
    "raise NotImplementedError()"
   ]
  },
  {
   "cell_type": "code",
   "execution_count": null,
   "metadata": {
    "deletable": false,
    "editable": false,
    "nbgrader": {
     "checksum": "d9b53fa02aecd80fdd38a7a0c2719f0f",
     "grade": true,
     "grade_id": "cell-afb74359b6852c3b",
     "locked": true,
     "points": 1,
     "schema_version": 1,
     "solution": false
    }
   },
   "outputs": [],
   "source": [
    "assert math.isclose(results.fittedvalues.sum(), 1661410.194, abs_tol=0.5)\n",
    "assert math.isclose(aic, 3618.186, abs_tol=0.5)"
   ]
  },
  {
   "cell_type": "markdown",
   "metadata": {
    "deletable": false,
    "editable": false,
    "nbgrader": {
     "checksum": "fe4f32f9452deea684cd2edfde112182",
     "grade": false,
     "grade_id": "cell-4e344676b2ee1334",
     "locked": true,
     "schema_version": 1,
     "solution": false
    }
   },
   "source": [
    "#### For the grid search, use the function `get_best_params` and `get_inputs` that are defined at the beginning of the notebook "
   ]
  },
  {
   "cell_type": "code",
   "execution_count": null,
   "metadata": {
    "deletable": false,
    "nbgrader": {
     "checksum": "41192e6a5dbfcef2d2e4315f54c6f631",
     "grade": false,
     "grade_id": "cell-b27a1ad82f7a7ad0",
     "locked": false,
     "schema_version": 1,
     "solution": true
    }
   },
   "outputs": [],
   "source": [
    "# grid search\n",
    "\n",
    "# inputs = # get the inputs\n",
    "# best_params = # get the best_params for the SARIMAX\n",
    "\n",
    "# YOUR CODE HERE\n",
    "raise NotImplementedError()"
   ]
  },
  {
   "cell_type": "code",
   "execution_count": null,
   "metadata": {
    "deletable": false,
    "editable": false,
    "nbgrader": {
     "checksum": "0a9d6a432b76dcaf392f29a8cda17564",
     "grade": true,
     "grade_id": "cell-e47d2e4bfc40465d",
     "locked": true,
     "points": 0,
     "schema_version": 1,
     "solution": false
    }
   },
   "outputs": [],
   "source": [
    "assert math.isclose(best_params.aic, 3471.621, abs_tol=5)"
   ]
  },
  {
   "cell_type": "code",
   "execution_count": null,
   "metadata": {
    "deletable": false,
    "nbgrader": {
     "checksum": "5d542b3bb4a277925915d1b350a859cb",
     "grade": false,
     "grade_id": "cell-45f610ad6b65a4a9",
     "locked": false,
     "schema_version": 1,
     "solution": true
    }
   },
   "outputs": [],
   "source": [
    "# fit the new model\n",
    "# model = # sarimax with the new parameters\n",
    "# results = # fit the model\n",
    "# aic = get the aic. This should be the same as before \n",
    "# YOUR CODE HERE\n",
    "raise NotImplementedError()"
   ]
  },
  {
   "cell_type": "code",
   "execution_count": null,
   "metadata": {
    "deletable": false,
    "editable": false,
    "nbgrader": {
     "checksum": "2fa508fc404a06914ca2d3a50bdea441",
     "grade": true,
     "grade_id": "cell-14d6637ff5a91b67",
     "locked": true,
     "points": 2,
     "schema_version": 1,
     "solution": false
    }
   },
   "outputs": [],
   "source": [
    "assert math.isclose(best_params.aic, 3471.621, abs_tol=0.5)\n",
    "assert math.isclose(results.fittedvalues.sum(), 1581705.679, abs_tol=0.5)"
   ]
  },
  {
   "cell_type": "code",
   "execution_count": null,
   "metadata": {
    "deletable": false,
    "nbgrader": {
     "checksum": "239f735386bccd3ac92b07f25d7971b5",
     "grade": false,
     "grade_id": "cell-0e46bba2626bf196",
     "locked": false,
     "schema_version": 1,
     "solution": true
    }
   },
   "outputs": [],
   "source": [
    "# store_4_preds = # get SARIMAX predictions for store 4\n",
    "# store_4_forecast = # get the forecast for the 4 days we are testing\n",
    "\n",
    "# YOUR CODE HERE\n",
    "raise NotImplementedError()"
   ]
  },
  {
   "cell_type": "code",
   "execution_count": null,
   "metadata": {
    "deletable": false,
    "editable": false,
    "nbgrader": {
     "checksum": "5127f0ea1fb591654016fbeb6d3fa1d1",
     "grade": true,
     "grade_id": "cell-6d40f0e0c0fdcafc",
     "locked": true,
     "points": 2,
     "schema_version": 1,
     "solution": false
    }
   },
   "outputs": [],
   "source": [
    "assert math.isclose(store_4_preds['2015-01-03'], 1106.3, abs_tol=0.5)\n",
    "assert math.isclose(store_4_forecast['2015-07-25'], 10017.3, abs_tol=0.5)"
   ]
  },
  {
   "cell_type": "markdown",
   "metadata": {
    "deletable": false,
    "editable": false,
    "nbgrader": {
     "checksum": "2117c65491c6d52b92d991cdb010f26c",
     "grade": false,
     "grade_id": "cell-678f1e20c3afb255",
     "locked": true,
     "schema_version": 1,
     "solution": false
    }
   },
   "source": [
    "### Q4.3: Get a prediction for the first `10 stores` for the new test (the final 4 days)"
   ]
  },
  {
   "cell_type": "code",
   "execution_count": null,
   "metadata": {
    "deletable": false,
    "editable": false,
    "nbgrader": {
     "checksum": "69ca5a6e0e5cbe75a73e415358bede89",
     "grade": false,
     "grade_id": "cell-b2f791f358b71a37",
     "locked": true,
     "schema_version": 1,
     "solution": false
    }
   },
   "outputs": [],
   "source": [
    "def predict_with_sarimax(df_, store_nr, steps=4): \n",
    "    \n",
    "    store_ = df_.loc[idx[:, store_nr], 'Sales']\n",
    "    \n",
    "    store_.index = store_.index.droplevel('Store')\n",
    "\n",
    "    model = sm.tsa.statespace.SARIMAX(store_,             \n",
    "                              order=(1, 0, 1),             \n",
    "                              seasonal_order=(1, 1, 1, 7),\n",
    "                              enforce_stationarity=False,  \n",
    "                              enforce_invertibility=False) \n",
    "\n",
    "    results = model.fit()\n",
    "    return results.get_forecast(steps=steps).predicted_mean"
   ]
  },
  {
   "cell_type": "markdown",
   "metadata": {
    "deletable": false,
    "editable": false,
    "nbgrader": {
     "checksum": "2d0695a4f2e86c3d92e549190c916ff5",
     "grade": false,
     "grade_id": "cell-152d5205a2016b2f",
     "locked": true,
     "schema_version": 1,
     "solution": false
    }
   },
   "source": [
    "##### This part can be tricky! Have a look at the learning notebook if you need! \n",
    "\n",
    "* We wrote some of the parts for you, you just have to uncomment them. Others you will have to write some code but, then again, in case of troubles, check the notebooks! "
   ]
  },
  {
   "cell_type": "code",
   "execution_count": null,
   "metadata": {
    "deletable": false,
    "nbgrader": {
     "checksum": "71db73a87bea8ce49dfdeace3c38e741",
     "grade": false,
     "grade_id": "cell-47d9dac152571367",
     "locked": false,
     "schema_version": 1,
     "solution": true
    }
   },
   "outputs": [],
   "source": [
    "# just uncomment\n",
    "# stores = train.index.get_level_values('Store').unique()[:10]\n",
    "\n",
    "# just uncomment\n",
    "# new_test = new_test.loc[idx[:, stores], :]\n",
    "# res = {}\n",
    "\n",
    "# just uncomment\n",
    "# i = 0\n",
    "# for store_nr in stores:\n",
    "    # i += 1\n",
    "    # print('%0.0f%%'% (i/len(stores)*100), end=',')\n",
    "    \n",
    "    # need to do\n",
    "    # res[store_nr] = # use predict sarimax to get predictions for each store\n",
    "    \n",
    "# just uncomment\n",
    "# results = pd.DataFrame(res).unstack().reset_index()\n",
    "# results.columns = ['Store', 'Date', 'Sales']\n",
    "# results = results.set_index(['Date', 'Store']).sort_index()\n",
    "\n",
    "# just uncomment\n",
    "# days_in_test_set = new_test.index.get_level_values('Date').unique()\n",
    "\n",
    "# just uncomment\n",
    "# for day in days_in_test_set:\n",
    "    # new_test.loc[idx[day, :], 'predictions'] = results.loc[idx[day, :], 'Sales'].values\n",
    "    \n",
    "\n",
    "# need to do\n",
    "# mean_absolute_error_final = # get the mean absolute error\n",
    "\n",
    "# YOUR CODE HERE\n",
    "raise NotImplementedError()"
   ]
  },
  {
   "cell_type": "code",
   "execution_count": null,
   "metadata": {
    "deletable": false,
    "editable": false,
    "nbgrader": {
     "checksum": "2711630d696ab51834ed45b093b2e57a",
     "grade": true,
     "grade_id": "cell-6c509d5e3467e33a",
     "locked": true,
     "points": 2,
     "schema_version": 1,
     "solution": false
    }
   },
   "outputs": [],
   "source": [
    "assert math.isclose(mean_absolute_error_final, 569.4, abs_tol=0.5)"
   ]
  },
  {
   "cell_type": "markdown",
   "metadata": {
    "deletable": false,
    "editable": false,
    "nbgrader": {
     "checksum": "2e1e2312a57eff0703f704fe3c1b10f0",
     "grade": false,
     "grade_id": "cell-d4a07eae98aaba8d",
     "locked": true,
     "schema_version": 1,
     "solution": false
    }
   },
   "source": [
    "# OPTIONAL"
   ]
  },
  {
   "cell_type": "markdown",
   "metadata": {
    "deletable": false,
    "editable": false,
    "nbgrader": {
     "checksum": "13ffd11cadb214ac925779106d440427",
     "grade": false,
     "grade_id": "cell-ab41450062497cb8",
     "locked": true,
     "schema_version": 1,
     "solution": false
    }
   },
   "source": [
    "### Prepare a dataframe with the following:\n",
    "- Target: should be the value `n` months after each month\n",
    "    - Where `n` will be the number of periods ahead we are trying to predict\n",
    "- Features: diff1 and diff2 "
   ]
  },
  {
   "cell_type": "code",
   "execution_count": null,
   "metadata": {
    "deletable": false,
    "editable": false,
    "nbgrader": {
     "checksum": "8e3cbb5cf1b8d13cd7920243d0f2e67f",
     "grade": false,
     "grade_id": "cell-247a5c2fcdfa2740",
     "locked": true,
     "schema_version": 1,
     "solution": false
    }
   },
   "outputs": [],
   "source": [
    "passenger = load_airline_data() # fresh start "
   ]
  },
  {
   "cell_type": "code",
   "execution_count": null,
   "metadata": {
    "deletable": false,
    "nbgrader": {
     "checksum": "ca8cc937d4e3da742902e936aadb9bae",
     "grade": false,
     "grade_id": "cell-89ab3ed7eb3db26f",
     "locked": false,
     "schema_version": 1,
     "solution": true
    }
   },
   "outputs": [],
   "source": [
    "# build useful functions\n",
    "# build_target should give you a target variable\n",
    "# build_features should give features with the diff1 and diff2\n",
    "# prepare_preds gets them together and splits in X_train and y_train\n",
    "\n",
    "def build_target(_series, periods): \n",
    "    _series = _series.copy()\n",
    "    _df = pd.DataFrame(_series)\n",
    "    # _df['target'] = # create your target variable\n",
    "    return _df\n",
    "\n",
    "def build_features(_df, feature): \n",
    "    _df = _df.copy()\n",
    "    # _df['diff1'] = # create the feature with the difference of 1 period\n",
    "    # _df['diff2'] = # create the feature with the difference of 2 period\n",
    "    return _df.dropna()\n",
    "\n",
    "def prepare_preds(_series, periods): \n",
    "    col_name = _series.name\n",
    "    \n",
    "    # _df = # build your dataframe with target and features\n",
    "    \n",
    "    # features = # get a list of features\n",
    "    # _df = # Get a _df without NaN\n",
    "    \n",
    "    # X_train = # get your X_train \n",
    "    # y_train = # get your y_train \n",
    "\n",
    "    \n",
    "    return X_train, y_train\n",
    "\n",
    "# YOUR CODE HERE\n",
    "raise NotImplementedError()"
   ]
  },
  {
   "cell_type": "markdown",
   "metadata": {
    "deletable": false,
    "editable": false,
    "nbgrader": {
     "checksum": "a9e0334e7ea4e133bad3715af4fffb9f",
     "grade": false,
     "grade_id": "cell-5c9aeef53e8ab4e9",
     "locked": true,
     "schema_version": 1,
     "solution": false
    }
   },
   "source": [
    "### Q5: Split your dataframe in X_train, y_train fit a linear regression, predict 2 months ahead and check the r2 score"
   ]
  },
  {
   "cell_type": "code",
   "execution_count": null,
   "metadata": {
    "deletable": false,
    "nbgrader": {
     "checksum": "f1f842433db7d10354e6fd90c505ac00",
     "grade": false,
     "grade_id": "cell-d56eca73a4fc4f3e",
     "locked": false,
     "schema_version": 1,
     "solution": true
    }
   },
   "outputs": [],
   "source": [
    "# X_train, y_train = use your prepare_preds\n",
    "# lr = # Linear regression\n",
    "# fit your Linear Regression \n",
    "# r2_score = calculate the score of r2\n",
    "\n",
    "# YOUR CODE HERE\n",
    "raise NotImplementedError()"
   ]
  },
  {
   "cell_type": "code",
   "execution_count": null,
   "metadata": {
    "deletable": false,
    "editable": false,
    "nbgrader": {
     "checksum": "b210f9ef271eca661ede712624a74549",
     "grade": true,
     "grade_id": "cell-5d10b09a3ea1c00c",
     "locked": true,
     "points": 0,
     "schema_version": 1,
     "solution": false
    }
   },
   "outputs": [],
   "source": [
    "assert math.isclose(r2_score, 0.81, abs_tol=0.1)"
   ]
  }
 ],
 "metadata": {
  "kernelspec": {
   "display_name": "Python 3",
   "language": "python",
   "name": "python3"
  },
  "language_info": {
   "codemirror_mode": {
    "name": "ipython",
    "version": 3
   },
   "file_extension": ".py",
   "mimetype": "text/x-python",
   "name": "python",
   "nbconvert_exporter": "python",
   "pygments_lexer": "ipython3",
   "version": "3.6.4"
  }
 },
 "nbformat": 4,
 "nbformat_minor": 2
}
